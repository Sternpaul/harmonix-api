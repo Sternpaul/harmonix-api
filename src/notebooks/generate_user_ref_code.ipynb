{
 "cells": [
  {
   "cell_type": "code",
   "execution_count": 1,
   "metadata": {},
   "outputs": [
    {
     "name": "stdout",
     "output_type": "stream",
     "text": [
      "Referral codes have been written to referral_codes.csv\n"
     ]
    }
   ],
   "source": [
    "import requests\n",
    "import csv\n",
    "import time\n",
    "\n",
    "# List of wallet addresses\n",
    "wallet_addresses = [\n",
    "    \"0x3320744a528BfdCEfFccD9aAA53A3d610867ADb7\",\n",
    "    \"0x6b90505eAc217f16A53868B9E20baAC2D71CDd0e\",\n",
    "    \"0x52A554020f3a85A98A3D6F981A0fD889Ba841079\",\n",
    "    \"0xEEe30EdCEa379e56533Ee0b6508e9Cd026B886CB\",\n",
    "    \"0x44423E8AD332b1150330448Eacc9eA3b358e9Afd\",\n",
    "    \"0x348595A6D9E9cc053cE22CA9Fc3EB8F142AfEf0A\",\n",
    "    \"0xc08bF93f774fdF73453365F5a5D88136321F7B44\",\n",
    "    \"0x8b2363A17f7E7AaCc0002A9413751048616BCddB\",\n",
    "    \"0x782419b0e8117E6199d764599EC9B80eC7103E34\",\n",
    "    \"0xBE5b5a033ef0de9C3be003635eEA05791522f3eE\",\n",
    "    \"0x90119026b85841DCE5E6ccE5eaFE0ceF242e5eE8\",\n",
    "    \"0x246A3B1A57710399F99650907B1a33979b027eDA\",\n",
    "    \"0x8Bb440F37E9a7Bc6469D3051074B0A9fee9a3Dff\",\n",
    "    \"0xA28A54E70eEA7f648CD531B5b2a00beE70087eab\",\n",
    "]\n",
    "\n",
    "# API endpoints\n",
    "join_api_url = \"https://api.harmonix.fi/api/v1/referral/users/join\"\n",
    "get_referral_code_url_template = (\n",
    "    \"https://api.harmonix.fi/api/v1/referral/users/{}/referral\"\n",
    ")\n",
    "\n",
    "# CSV file setup\n",
    "csv_filename = \"referral_codes.csv\"\n",
    "csv_headers = [\"Wallet Address\", \"Referral Code\"]\n",
    "\n",
    "# Referral code to be used for the join API call\n",
    "referral_code = \"rKXLJ6e3\"\n",
    "\n",
    "\n",
    "# Function to join user and get referral code\n",
    "def create_user_and_get_ref_code(wallet_address):\n",
    "    # Join user\n",
    "    join_payload = {\"user_address\": wallet_address, \"referral_code\": referral_code}\n",
    "    join_headers = {\"accept\": \"application/json\", \"Content-Type\": \"application/json\"}\n",
    "    join_response = requests.post(join_api_url, json=join_payload, headers=join_headers)\n",
    "\n",
    "    # Check if the join was successful\n",
    "    if join_response.status_code == 200 and join_response.json().get(\"valid\"):\n",
    "        # Get referral code\n",
    "        get_referral_code_url = get_referral_code_url_template.format(wallet_address)\n",
    "        get_referral_code_headers = {\"accept\": \"application/json\"}\n",
    "        get_referral_code_response = requests.get(\n",
    "            get_referral_code_url, headers=get_referral_code_headers\n",
    "        )\n",
    "\n",
    "        if get_referral_code_response.status_code == 200:\n",
    "            referral_codes = get_referral_code_response.json()\n",
    "            if referral_codes:\n",
    "                return referral_codes[0]\n",
    "    return None\n",
    "\n",
    "\n",
    "# Main script\n",
    "with open(csv_filename, mode=\"w\", newline=\"\") as csv_file:\n",
    "    writer = csv.writer(csv_file)\n",
    "    writer.writerow(csv_headers)\n",
    "\n",
    "    for address in wallet_addresses:\n",
    "        ref_code = create_user_and_get_ref_code(address)\n",
    "        if ref_code:\n",
    "            writer.writerow([address, ref_code])\n",
    "        else:\n",
    "            print(f\"Failed to get referral code for address: {address}\")\n",
    "\n",
    "        # Respectful delay to avoid rate limiting\n",
    "        time.sleep(1)\n",
    "\n",
    "print(f\"Referral codes have been written to {csv_filename}\")"
   ]
  }
 ],
 "metadata": {
  "kernelspec": {
   "display_name": ".venv",
   "language": "python",
   "name": "python3"
  },
  "language_info": {
   "codemirror_mode": {
    "name": "ipython",
    "version": 3
   },
   "file_extension": ".py",
   "mimetype": "text/x-python",
   "name": "python",
   "nbconvert_exporter": "python",
   "pygments_lexer": "ipython3",
   "version": "3.10.9"
  }
 },
 "nbformat": 4,
 "nbformat_minor": 2
}
