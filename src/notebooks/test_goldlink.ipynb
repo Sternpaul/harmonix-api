{
 "cells": [
  {
   "cell_type": "code",
   "execution_count": 10,
   "metadata": {},
   "outputs": [],
   "source": [
    "from web3 import AsyncWeb3, Web3\n",
    "from web3.eth import Contract\n",
    "from datetime import datetime\n",
    "from pprint import pprint\n",
    "\n",
    "import json\n",
    "\n",
    "\n",
    "def read_abi(token: str):\n",
    "    with open(f\"../config/{token.lower()}.json\") as f:\n",
    "        data = json.load(f)\n",
    "        return data"
   ]
  },
  {
   "cell_type": "code",
   "execution_count": 11,
   "metadata": {},
   "outputs": [
    {
     "name": "stdout",
     "output_type": "stream",
     "text": [
      "bank 0x479889160FEECe9C0fB0FDDF3b45312f54D719CC\n"
     ]
    }
   ],
   "source": [
    "w3 = Web3(Web3.HTTPProvider(\"https://bitter-wandering-feather.arbitrum-mainnet.quiknode.pro/862a558ad28be94cf6b1ccae509bdca74a19086a\"))\n",
    "\n",
    "strategy_account_address = Web3.to_checksum_address(\"0x04df99681dd2c0d26598139afd517142430b1202\")\n",
    "\n",
    "strategy_reserve_abi = read_abi(\"strategy-reserve\")\n",
    "strategy_reserve = w3.eth.contract(\n",
    "    address=strategy_account_address,\n",
    "    abi=strategy_reserve_abi,\n",
    ")\n",
    "\n",
    "bank = strategy_reserve.functions.STRATEGY_BANK().call()\n",
    "print('bank', bank)\n",
    "\n",
    "\n",
    "bank_abi = read_abi(\"strategy-bank\")\n",
    "strategy_bank = w3.eth.contract(\n",
    "    address=bank,\n",
    "    abi=bank_abi,\n",
    ")\n",
    "\n",
    "strategy_account_abi = read_abi(\"strategy-account\")\n",
    "strategy_account = w3.eth.contract(\n",
    "    address=strategy_account_address,\n",
    "    abi=strategy_account_abi,\n",
    ")\n"
   ]
  },
  {
   "cell_type": "markdown",
   "metadata": {},
   "source": [
    "## Init ERC20 token contract\n"
   ]
  },
  {
   "cell_type": "code",
   "execution_count": 18,
   "metadata": {},
   "outputs": [
    {
     "name": "stdout",
     "output_type": "stream",
     "text": [
      "asset 0xaf88d065e77c8cC2239327C5EDb3A432268e5831\n",
      "balance 1484407\n"
     ]
    }
   ],
   "source": [
    "erc20_abi = read_abi(\"erc20_abi\")\n",
    "## Get strategy bank asset\n",
    "\n",
    "asset = strategy_bank.functions.STRATEGY_ASSET().call()\n",
    "print('asset', asset)\n",
    "\n",
    "usdc_contract = w3.eth.contract(address=asset, abi=erc20_abi)\n",
    "\n",
    "\n",
    "## Get strategy account holdings\n",
    "balance = usdc_contract.functions.balanceOf(strategy_account_address).call()\n",
    "print('balance', balance)"
   ]
  },
  {
   "cell_type": "code",
   "execution_count": 13,
   "metadata": {},
   "outputs": [
    {
     "name": "stdout",
     "output_type": "stream",
     "text": [
      "{'collateral': 187710256,\n",
      " 'interestIndexLast': 28130407131623183,\n",
      " 'loan': 360000000}\n"
     ]
    }
   ],
   "source": [
    "holdings = strategy_bank.functions.getStrategyAccountHoldings(\n",
    "    strategy_account_address,\n",
    ").call()\n",
    "pprint({\n",
    "    'collateral': holdings[0],\n",
    "    'loan': holdings[1],\n",
    "    'interestIndexLast': holdings[2]\n",
    "})"
   ]
  },
  {
   "cell_type": "markdown",
   "metadata": {},
   "source": [
    "### Dung cai nay tinh health factor"
   ]
  },
  {
   "cell_type": "code",
   "execution_count": 25,
   "metadata": {},
   "outputs": [
    {
     "name": "stdout",
     "output_type": "stream",
     "text": [
      "{'collateral': 187179934,\n",
      " 'interestIndexLast': 29603521971370380,\n",
      " 'loan': 360000000}\n",
      "healthScore 0.5199442611111111\n"
     ]
    }
   ],
   "source": [
    "holdings_after_pay_interest = strategy_bank.functions.getStrategyAccountHoldingsAfterPayingInterest(\n",
    "    strategy_account_address,\n",
    ").call()\n",
    "pprint({\n",
    "    'collateral': holdings_after_pay_interest[0],\n",
    "    'loan': holdings_after_pay_interest[1],\n",
    "    'interestIndexLast': holdings_after_pay_interest[2]\n",
    "})\n",
    "\n",
    "healthScore = (holdings_after_pay_interest[0]) / holdings_after_pay_interest[1]\n",
    "print('healthScore', healthScore)"
   ]
  },
  {
   "cell_type": "code",
   "execution_count": 14,
   "metadata": {},
   "outputs": [
    {
     "name": "stdout",
     "output_type": "stream",
     "text": [
      "account_value 357509748\n"
     ]
    }
   ],
   "source": [
    "account_value = strategy_account.functions.getAccountValue().call()\n",
    "print('account_value', account_value)"
   ]
  },
  {
   "cell_type": "markdown",
   "metadata": {},
   "source": [
    "### Calculate health score\n",
    "\n",
    "`loss = holding.loan`\n",
    "\n",
    "`adjustedCollateral = holdings.collateral - Math.min(holdings.collateral, loss);`"
   ]
  },
  {
   "cell_type": "code",
   "execution_count": 23,
   "metadata": {},
   "outputs": [
    {
     "name": "stdout",
     "output_type": "stream",
     "text": [
      "healthScore 0.521417369\n"
     ]
    }
   ],
   "source": [
    "\n",
    "healthScore = (holdings[0] - 3.16) / holdings[1]\n",
    "print('healthScore', healthScore)\n",
    "\n"
   ]
  },
  {
   "cell_type": "code",
   "execution_count": null,
   "metadata": {},
   "outputs": [],
   "source": []
  }
 ],
 "metadata": {
  "kernelspec": {
   "display_name": ".venv",
   "language": "python",
   "name": "python3"
  },
  "language_info": {
   "codemirror_mode": {
    "name": "ipython",
    "version": 3
   },
   "file_extension": ".py",
   "mimetype": "text/x-python",
   "name": "python",
   "nbconvert_exporter": "python",
   "pygments_lexer": "ipython3",
   "version": "3.10.9"
  }
 },
 "nbformat": 4,
 "nbformat_minor": 2
}
