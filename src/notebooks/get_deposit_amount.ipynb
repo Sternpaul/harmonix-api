{
 "cells": [
  {
   "cell_type": "code",
   "execution_count": 2,
   "metadata": {},
   "outputs": [],
   "source": [
    "import sys\n",
    "sys.path.append(\"../\")\n"
   ]
  },
  {
   "cell_type": "code",
   "execution_count": 5,
   "metadata": {},
   "outputs": [],
   "source": [
    "import json\n",
    "\n",
    "\n",
    "def read_abi(token: str):\n",
    "    with open(f\"../config/{token}.json\") as f:\n",
    "        data = json.load(f)\n",
    "        return data"
   ]
  },
  {
   "cell_type": "code",
   "execution_count": 16,
   "metadata": {},
   "outputs": [
    {
     "name": "stdout",
     "output_type": "stream",
     "text": [
      "60.0\n"
     ]
    }
   ],
   "source": [
    "from web3 import Web3\n",
    "from web3.eth import Eth\n",
    "\n",
    "web3 = Web3(\n",
    "    provider=Web3.HTTPProvider(\n",
    "        endpoint_uri=\"https://arbitrum-mainnet.infura.io/v3/85cde589ce754dafa0a57001c326104d\",\n",
    "    ),\n",
    "    modules={\"eth\": (Eth,)},\n",
    "    middlewares=[],\n",
    ")\n",
    "\n",
    "contract_abi = read_abi(\"rockonyxdeltaneutralvault_abi\")\n",
    "vault_contract = web3.eth.contract(\n",
    "    address=\"0x3aBa80D4F1Ea7B169FaE34197b2c4A0B54d0908b\", abi=contract_abi\n",
    ")\n",
    "\n",
    "\n",
    "wallet_address = Web3.to_checksum_address(\"0xc8cde2212bf6fdfde6bcc7df0a3f0f4b82fdd240\")\n",
    "state = (\n",
    "    vault_contract.functions.getUserVaultState().call(\n",
    "        {\"from\": wallet_address}\n",
    "    )\n",
    ")\n",
    "\n",
    "deposit_amount = state[0] / 1e6\n",
    "print(deposit_amount)"
   ]
  }
 ],
 "metadata": {
  "kernelspec": {
   "display_name": ".venv",
   "language": "python",
   "name": "python3"
  },
  "language_info": {
   "codemirror_mode": {
    "name": "ipython",
    "version": 3
   },
   "file_extension": ".py",
   "mimetype": "text/x-python",
   "name": "python",
   "nbconvert_exporter": "python",
   "pygments_lexer": "ipython3",
   "version": "3.10.9"
  }
 },
 "nbformat": 4,
 "nbformat_minor": 2
}
