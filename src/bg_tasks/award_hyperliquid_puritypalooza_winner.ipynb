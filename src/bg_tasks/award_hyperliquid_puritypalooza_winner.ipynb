{
 "cells": [
  {
   "cell_type": "code",
   "execution_count": 1,
   "metadata": {},
   "outputs": [],
   "source": [
    "import sys\n",
    "import os\n",
    "\n",
    "# Determine the root directory (one level up from the notebook directory)\n",
    "root_dir = os.path.abspath('..')\n",
    "\n",
    "# Add the root directory to sys.path\n",
    "sys.path.append(root_dir)\n"
   ]
  },
  {
   "cell_type": "code",
   "execution_count": 2,
   "metadata": {},
   "outputs": [
    {
     "name": "stdout",
     "output_type": "stream",
     "text": [
      "                                       Wallet HARMONIX\n",
      "1  0x287cDA72b62189a9A2b83a7A369fdFAe8101BED7     0.12\n",
      "2  0xBC05da14287317FE12B1a2b5a0E1d756Ff1801Aa     0.23\n",
      "3                                         NaN        0\n"
     ]
    }
   ],
   "source": [
    "import pandas as pd\n",
    "\n",
    "data = pd.read_csv('../../src/data/Hyperliquid Purty Palooza Winner List.csv', usecols=['Wallet', 'HARMONIX']).iloc[1:]\n",
    "print(data.head())"
   ]
  },
  {
   "cell_type": "code",
   "execution_count": 3,
   "metadata": {},
   "outputs": [],
   "source": [
    "import eth_account\n",
    "from eth_account.signers.local import LocalAccount\n",
    "from core.config import settings\n",
    "from hyperliquid.exchange import Exchange\n",
    "from hyperliquid.info import Info\n",
    "\n",
    "\n",
    "def setup(base_url=None, skip_ws=False):\n",
    "    account: LocalAccount = eth_account.Account.from_key(settings.HYPER_LIQUID_API_KEY)\n",
    "    address = settings.HYPER_LIQUID_ADDRESS\n",
    "    if address == \"\":\n",
    "        address = account.address\n",
    "    print(\"Running with account address:\", address)\n",
    "    if address != account.address:\n",
    "        print(\"Running with agent address:\", account.address)\n",
    "    info = Info(base_url, skip_ws)\n",
    "    user_state = info.user_state(address)\n",
    "    spot_user_state = info.spot_user_state(address)\n",
    "    margin_summary = user_state[\"marginSummary\"]\n",
    "    if float(margin_summary[\"accountValue\"]) == 0 and len(spot_user_state[\"balances\"]) == 0:\n",
    "        print(\"Not running the example because the provided account has no equity.\")\n",
    "        url = info.base_url.split(\".\", 1)[1]\n",
    "        error_string = f\"No accountValue:\\nIf you think this is a mistake, make sure that {address} has a balance on {url}.\\nIf address shown is your API wallet address, update the config to specify the address of your account, not the address of the API wallet.\"\n",
    "        raise Exception(error_string)\n",
    "    exchange = Exchange(account, base_url, account_address=address)\n",
    "    return address, info, exchange"
   ]
  },
  {
   "cell_type": "code",
   "execution_count": 9,
   "metadata": {},
   "outputs": [
    {
     "name": "stdout",
     "output_type": "stream",
     "text": [
      "Running with account address: 0xFf89D90f8B653094DEeEDe762DdDf14E9c3073e6\n",
      "{'status': 'ok', 'response': {'type': 'default'}}\n",
      "{'status': 'ok', 'response': {'type': 'default'}}\n"
     ]
    }
   ],
   "source": [
    "from hyperliquid.utils import constants\n",
    "address, info, exchange = setup(constants.TESTNET_API_URL, skip_ws=True)\n",
    "if exchange.account_address != exchange.wallet.address:\n",
    "    raise Exception(\"Agents do not have permission to perform internal transfers\")\n",
    "\n",
    "for index, row in data.iterrows():\n",
    "    #check if row['HARMONIX'] is empty or not, check if it is NaN check if it is None\n",
    "    if pd.isnull(row['Wallet']) or row['Wallet'] == \"None\" or row['Wallet'] == \"\": \n",
    "        continue\n",
    "    transfer_result = exchange.spot_transfer(\n",
    "        row['HARMONIX'], row['Wallet'], \"HYPE:0x7317beb7cceed72ef0b346074cc8e7ab\"\n",
    "    )\n",
    "    print(transfer_result)\n"
   ]
  }
 ],
 "metadata": {
  "kernelspec": {
   "display_name": "myenv",
   "language": "python",
   "name": "python3"
  },
  "language_info": {
   "codemirror_mode": {
    "name": "ipython",
    "version": 3
   },
   "file_extension": ".py",
   "mimetype": "text/x-python",
   "name": "python",
   "nbconvert_exporter": "python",
   "pygments_lexer": "ipython3",
   "version": "3.10.16"
  }
 },
 "nbformat": 4,
 "nbformat_minor": 2
}
